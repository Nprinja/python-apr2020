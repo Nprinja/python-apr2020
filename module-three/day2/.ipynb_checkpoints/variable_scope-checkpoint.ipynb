{
 "cells": [
  {
   "cell_type": "markdown",
   "metadata": {},
   "source": [
    "# Scope of Variables"
   ]
  },
  {
   "cell_type": "code",
   "execution_count": 6,
   "metadata": {},
   "outputs": [
    {
     "name": "stdout",
     "output_type": "stream",
     "text": [
      "a = 50\n",
      "b = 30\n",
      "a in number function 50\n"
     ]
    }
   ],
   "source": [
    "\"\"\"\n",
    "Local vs Global variable scope\n",
    "\n",
    "\"\"\"\n",
    "a = 50\n",
    "\n",
    "def number():\n",
    "    b = 30\n",
    "    print('b = %s' %b)\n",
    "    print('a in number function %s' %a)\n",
    "\n",
    "print('a = %s' %a) #50\n",
    "\n",
    "number() #30\n",
    "\n",
    "#print(b) #\n"
   ]
  },
  {
   "cell_type": "code",
   "execution_count": 8,
   "metadata": {},
   "outputs": [
    {
     "name": "stdout",
     "output_type": "stream",
     "text": [
      "30\n",
      "c =  30\n",
      "Sum =  34\n"
     ]
    }
   ],
   "source": [
    "a = 30\n",
    "\n",
    "def add(b):\n",
    "    c = 30\n",
    "    print('c = ', c)\n",
    "    sum = b + c\n",
    "    print('Sum = ', sum)\n",
    "\n",
    "print(a) #\n",
    "add(4) #\n",
    "\n",
    "#print(c) #"
   ]
  },
  {
   "cell_type": "markdown",
   "metadata": {},
   "source": [
    "# Global keyword"
   ]
  },
  {
   "cell_type": "code",
   "execution_count": 12,
   "metadata": {},
   "outputs": [
    {
     "name": "stdout",
     "output_type": "stream",
     "text": [
      "Inside number() a =  15\n",
      "Outside number function a =  15\n"
     ]
    }
   ],
   "source": [
    "a = 10\n",
    "\n",
    "def number():\n",
    "    global a\n",
    "    a = 15\n",
    "    print('Inside number() a = ', a)\n",
    "\n",
    "number()\n",
    "print('Outside number function a = ', a)"
   ]
  },
  {
   "cell_type": "code",
   "execution_count": 15,
   "metadata": {},
   "outputs": [
    {
     "name": "stdout",
     "output_type": "stream",
     "text": [
      "Person called\n",
      "Person called\n",
      "Person called\n",
      "3\n"
     ]
    }
   ],
   "source": [
    "count = 0\n",
    "\n",
    "def person():\n",
    "    print('Person called')\n",
    "    global count\n",
    "    count = count + 1\n",
    "\n",
    "person()\n",
    "person()\n",
    "person()\n",
    "print(count)\n"
   ]
  },
  {
   "cell_type": "markdown",
   "metadata": {},
   "source": [
    "# Memor address"
   ]
  },
  {
   "cell_type": "code",
   "execution_count": 19,
   "metadata": {},
   "outputs": [
    {
     "name": "stdout",
     "output_type": "stream",
     "text": [
      "4328093392\n",
      "4328093392\n"
     ]
    }
   ],
   "source": [
    "a = 10\n",
    "b = 10\n",
    "\n",
    "print(id(a))\n",
    "print(id(b))"
   ]
  },
  {
   "cell_type": "code",
   "execution_count": null,
   "metadata": {},
   "outputs": [],
   "source": []
  }
 ],
 "metadata": {
  "kernelspec": {
   "display_name": "Python 3",
   "language": "python",
   "name": "python3"
  },
  "language_info": {
   "codemirror_mode": {
    "name": "ipython",
    "version": 3
   },
   "file_extension": ".py",
   "mimetype": "text/x-python",
   "name": "python",
   "nbconvert_exporter": "python",
   "pygments_lexer": "ipython3",
   "version": "3.6.8"
  }
 },
 "nbformat": 4,
 "nbformat_minor": 2
}
